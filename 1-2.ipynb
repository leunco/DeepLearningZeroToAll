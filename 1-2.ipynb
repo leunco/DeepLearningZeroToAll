{
 "cells": [
  {
   "cell_type": "markdown",
   "metadata": {},
   "source": [
    "# 1-2 TensorFlow의 설치 및 기본적인 operations"
   ]
  },
  {
   "cell_type": "markdown",
   "metadata": {},
   "source": [
    "## Hello TensorFlow!"
   ]
  },
  {
   "cell_type": "code",
   "execution_count": 7,
   "metadata": {},
   "outputs": [
    {
     "name": "stdout",
     "output_type": "stream",
     "text": [
      "b'Hello, TensorFlow!'\n"
     ]
    }
   ],
   "source": [
    "import tensorflow as tf\n",
    "\n",
    "# Create a constant op\n",
    "# This op is added as a node to the default graph\n",
    "hello = tf.constant(\"Hello, TensorFlow!\")\n",
    "\n",
    "# seart a TF session\n",
    "sess = tf.Session()\n",
    "\n",
    "# run the op and get result\n",
    "print(sess.run(hello)) # hello라는 노드룰 run(실행)"
   ]
  },
  {
   "cell_type": "markdown",
   "metadata": {},
   "source": [
    "- b'String' : 'b'는 Bytes literals를 의미"
   ]
  },
  {
   "cell_type": "markdown",
   "metadata": {},
   "source": [
    "## Computational Graph"
   ]
  },
  {
   "cell_type": "markdown",
   "metadata": {},
   "source": [
    "(1) Build graph(tensors) using TensorFlow operations"
   ]
  },
  {
   "cell_type": "code",
   "execution_count": 8,
   "metadata": {},
   "outputs": [],
   "source": [
    "# 노드 a, 노드 b를 더하기로 연결하는 그래프\n",
    "node1 = tf.constant(3.0, tf.float32) # float32는 데이터타입\n",
    "node2 = tf.constant(4.0) # float32\n",
    "node3 = tf.add(node1,node2) # node3 = node1+node2"
   ]
  },
  {
   "cell_type": "markdown",
   "metadata": {},
   "source": [
    "(2) feed data and run graph(operation) : sess.run(op)  \n",
    "(3) update variables in the graph(and return values)"
   ]
  },
  {
   "cell_type": "code",
   "execution_count": 9,
   "metadata": {},
   "outputs": [
    {
     "name": "stdout",
     "output_type": "stream",
     "text": [
      "node1: Tensor(\"Const_1:0\", shape=(), dtype=float32) node2: Tensor(\"Const_2:0\", shape=(), dtype=float32)\n",
      "node3: Tensor(\"Add:0\", shape=(), dtype=float32)\n"
     ]
    }
   ],
   "source": [
    "# 결과값이 나오지는 않음\n",
    "print(\"node1:\", node1, \"node2:\",node2)\n",
    "print(\"node3:\", node3)"
   ]
  },
  {
   "cell_type": "code",
   "execution_count": 11,
   "metadata": {},
   "outputs": [
    {
     "name": "stdout",
     "output_type": "stream",
     "text": [
      "sess.run(node1,node2): [3.0, 4.0]\n",
      "sess.run(node3): 7.0\n"
     ]
    }
   ],
   "source": [
    "sess = tf.Session()\n",
    "print(\"sess.run(node1,node2):\",sess.run([node1,node2])) # 실행, 값 리턴\n",
    "print(\"sess.run(node3):\",sess.run(node3))"
   ]
  },
  {
   "cell_type": "markdown",
   "metadata": {},
   "source": [
    "## Placeholder"
   ]
  },
  {
   "cell_type": "code",
   "execution_count": 14,
   "metadata": {},
   "outputs": [
    {
     "name": "stdout",
     "output_type": "stream",
     "text": [
      "7.5\n",
      "[3. 7.]\n"
     ]
    }
   ],
   "source": [
    "# 그래프는 미리 만들어두고 실행시킬 때 값을 대입 -> Placeholder라는 노드 이용\n",
    "\n",
    "a = tf.placeholder(tf.float32)\n",
    "b = tf.placeholder(tf.float32)\n",
    "adder_node = a+b # + provieds a shortcut for tf.add(a,b)\n",
    "\n",
    "# 그래프 실행시킬 때 값을 모름 -> 값을 넘겨주면서 그래프 실행\n",
    "print(sess.run(adder_node, feed_dict={a:3,b:4.5})) \n",
    "print(sess.run(adder_node, feed_dict={a:[1,3], b:[2,4]}))"
   ]
  },
  {
   "cell_type": "code",
   "execution_count": 16,
   "metadata": {},
   "outputs": [
    {
     "name": "stdout",
     "output_type": "stream",
     "text": [
      "22.5\n"
     ]
    }
   ],
   "source": [
    "add_and_triple = adder_node*3\n",
    "print(sess.run(add_and_triple, feed_dict={a:3, b:4.5}))"
   ]
  },
  {
   "cell_type": "markdown",
   "metadata": {},
   "source": [
    "** TensorFlow **\n",
    "1. Build graph using TensorFlow operations\n",
    "    - 이 때 Placeholder를 만들 수 있음\n",
    "2. feed data and run graph (operation) \n",
    "    - sess.run(op)\n",
    "    - sess.run(op,feed_dict={x:x_data}) # Placeholder 사용\n",
    "3. update variables in the graph(and return values)"
   ]
  },
  {
   "cell_type": "markdown",
   "metadata": {},
   "source": [
    "## Tensors"
   ]
  },
  {
   "cell_type": "code",
   "execution_count": 15,
   "metadata": {},
   "outputs": [
    {
     "data": {
      "text/plain": [
       "[[[1.0, 2.0, 3.0]], [[7.0, 8.0, 9.0]]]"
      ]
     },
     "execution_count": 15,
     "metadata": {},
     "output_type": "execute_result"
    }
   ],
   "source": [
    "3 # a rank 0 tensor; this is a scalar shape []\n",
    "[1., 2., 3.,] # a rank 1 tensor; this is a vector with shape [3]\n",
    "[[1., 2., 3.,], [4., 5., 6.]] # a rank 2 tensor; a matrix with shape [2,3]\n",
    "[[[1., 2., 3.]], [[7., 8., 9.]]] # a rank 3 tensor with shape [2,1,3]"
   ]
  },
  {
   "cell_type": "markdown",
   "metadata": {},
   "source": [
    "1. Rank : 차원  \n",
    "    - scalar : 0 (rank)  \n",
    "    - vector : 1  \n",
    "    - matrix : 2  \n",
    "    - n-Tensor : n     \n",
    "    \n",
    "    \n",
    "2. Shape : 각각의 요소에 얼마만큼 들어있는지(중요)  \n",
    "    ex. t = [[1,2,3],[4,5,6],[7,8,9]]\n",
    "    - 안쪽에 eliment가 3개 ex. 7,8,9  \n",
    "    - 3개씩 존재 => (3,3) or [3,3]  \n",
    "    \n",
    "    \n",
    "3. Types  \n",
    "    - 대부분 float32 사용 (tf.float32 : python type)\n",
    "    - int : tf.int32..."
   ]
  },
  {
   "cell_type": "code",
   "execution_count": null,
   "metadata": {},
   "outputs": [],
   "source": []
  }
 ],
 "metadata": {
  "kernelspec": {
   "display_name": "Python 3",
   "language": "python",
   "name": "python3"
  },
  "language_info": {
   "codemirror_mode": {
    "name": "ipython",
    "version": 3
   },
   "file_extension": ".py",
   "mimetype": "text/x-python",
   "name": "python",
   "nbconvert_exporter": "python",
   "pygments_lexer": "ipython3",
   "version": "3.7.3"
  }
 },
 "nbformat": 4,
 "nbformat_minor": 2
}
